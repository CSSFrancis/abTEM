{
 "cells": [
  {
   "cell_type": "code",
   "execution_count": null,
   "metadata": {
    "pycharm": {
     "is_executing": true
    }
   },
   "outputs": [],
   "source": [
    "import numpy as np\n",
    "from ase.io import read\n",
    "from ase import build\n",
    "from scipy import ndimage\n",
    "import matplotlib.pyplot as plt\n",
    "\n",
    "from abtem import Probe, PlaneWave, Potential, PixelatedDetector, Measurement\n",
    "from abtem.temperature import MDFrozenPhonons, FrozenPhonons\n",
    "from abtem.measure import rotational_average\n",
    "from abtem import show_atoms"
   ]
  },
  {
   "cell_type": "code",
   "execution_count": null,
   "metadata": {
    "pycharm": {
     "is_executing": true
    }
   },
   "outputs": [],
   "source": [
    "device = 'gpu'"
   ]
  },
  {
   "cell_type": "code",
   "execution_count": null,
   "metadata": {
    "pycharm": {
     "is_executing": true
    }
   },
   "outputs": [],
   "source": [
    "# fft cache disabled for large simulations\n",
    "\n",
    "from cupy.fft.config import get_plan_cache\n",
    "cache = get_plan_cache()\n",
    "cache.set_size(1)"
   ]
  },
  {
   "cell_type": "code",
   "execution_count": null,
   "metadata": {
    "pycharm": {
     "is_executing": true
    }
   },
   "outputs": [],
   "source": [
    "traj = read('md_phonons.traj@:')\n",
    "\n",
    "print('Number of images:', len(traj))"
   ]
  },
  {
   "cell_type": "code",
   "execution_count": null,
   "metadata": {
    "pycharm": {
     "is_executing": true
    }
   },
   "outputs": [],
   "source": [
    "md_fp = MDFrozenPhonons(traj)\n",
    "\n",
    "sigma = np.mean(md_fp.standard_deviations())\n",
    "\n",
    "print('Standard deviation:', sigma)"
   ]
  },
  {
   "cell_type": "code",
   "execution_count": null,
   "metadata": {
    "pycharm": {
     "is_executing": true
    }
   },
   "outputs": [],
   "source": [
    "atoms = build.bulk('Si', 'diamond', cubic=True)\n",
    "atoms *= (37, 37, 240)\n",
    "\n",
    "fp = FrozenPhonons(atoms, len(traj), {'Si': sigma}, seed=13, directions='xyz')\n",
    "\n"
   ]
  },
  {
   "cell_type": "code",
   "execution_count": null,
   "metadata": {
    "pycharm": {
     "is_executing": true
    }
   },
   "outputs": [],
   "source": [
    "md_potential = Potential(md_fp, gpts=2048, slice_thickness=.1, \n",
    "                         device='gpu', projection='infinite', \n",
    "                         parametrization='kirkland', precalculate=False)\n",
    "\n",
    "einstein_potential = Potential(fp, gpts=2048, slice_thickness=.1, device='gpu',\n",
    "                                projection='infinite', parametrization='kirkland', precalculate=False)\n",
    "\n",
    "elastic_potential = Potential(atoms, gpts=2048, slice_thickness=.1, device='gpu',\n",
    "                              projection='infinite', parametrization='kirkland', precalculate=False)"
   ]
  },
  {
   "cell_type": "code",
   "execution_count": null,
   "metadata": {
    "pycharm": {
     "is_executing": true
    }
   },
   "outputs": [],
   "source": [
    "probe = Probe(energy=100e3, semiangle_cutoff=9.4, device='gpu')\n",
    "probe.grid.match(md_potential)"
   ]
  },
  {
   "cell_type": "code",
   "execution_count": null,
   "metadata": {
    "pycharm": {
     "is_executing": true
    }
   },
   "outputs": [],
   "source": [
    "measurement = probe.build().multislice(md_potential, pbar=True, max_batch_potential=1)"
   ]
  },
  {
   "cell_type": "code",
   "execution_count": null,
   "metadata": {
    "pycharm": {
     "is_executing": true
    }
   },
   "outputs": [],
   "source": [
    "probe.profile().show();"
   ]
  },
  {
   "cell_type": "code",
   "execution_count": 18,
   "metadata": {
    "scrolled": true
   },
   "outputs": [
    {
     "ename": "KeyboardInterrupt",
     "evalue": "",
     "output_type": "error",
     "traceback": [
      "\u001B[1;31m---------------------------------------------------------------------------\u001B[0m",
      "\u001B[1;31mKeyboardInterrupt\u001B[0m                         Traceback (most recent call last)",
      "\u001B[1;32m<ipython-input-18-765c58183e3b>\u001B[0m in \u001B[0;36m<module>\u001B[1;34m\u001B[0m\n\u001B[0;32m      4\u001B[0m \u001B[1;33m\u001B[0m\u001B[0m\n\u001B[0;32m      5\u001B[0m \u001B[0mdetector\u001B[0m \u001B[1;33m=\u001B[0m \u001B[0mPixelatedDetector\u001B[0m\u001B[1;33m(\u001B[0m\u001B[0mmax_angle\u001B[0m\u001B[1;33m=\u001B[0m\u001B[1;34m'limit'\u001B[0m\u001B[1;33m)\u001B[0m\u001B[1;33m\u001B[0m\u001B[1;33m\u001B[0m\u001B[0m\n\u001B[1;32m----> 6\u001B[1;33m \u001B[0mmeasurement\u001B[0m \u001B[1;33m=\u001B[0m \u001B[0mprobe\u001B[0m\u001B[1;33m.\u001B[0m\u001B[0mbuild\u001B[0m\u001B[1;33m(\u001B[0m\u001B[1;33m)\u001B[0m\u001B[1;33m.\u001B[0m\u001B[0mmultislice\u001B[0m\u001B[1;33m(\u001B[0m\u001B[0meinstein_potential\u001B[0m\u001B[1;33m,\u001B[0m \u001B[0mpbar\u001B[0m\u001B[1;33m=\u001B[0m\u001B[1;32mTrue\u001B[0m\u001B[1;33m,\u001B[0m \u001B[0mdetector\u001B[0m\u001B[1;33m=\u001B[0m\u001B[0mdetector\u001B[0m\u001B[1;33m,\u001B[0m \u001B[0mmax_batch_potential\u001B[0m\u001B[1;33m=\u001B[0m\u001B[1;36m1\u001B[0m\u001B[1;33m)\u001B[0m\u001B[1;33m\u001B[0m\u001B[1;33m\u001B[0m\u001B[0m\n\u001B[0m\u001B[0;32m      7\u001B[0m \u001B[0mmeasurement\u001B[0m\u001B[1;33m.\u001B[0m\u001B[0mwrite\u001B[0m\u001B[1;33m(\u001B[0m\u001B[1;34m'cbed_einstein_si100.hdf5'\u001B[0m\u001B[1;33m)\u001B[0m\u001B[1;33m\u001B[0m\u001B[1;33m\u001B[0m\u001B[0m\n\u001B[0;32m      8\u001B[0m \u001B[1;33m\u001B[0m\u001B[0m\n",
      "\u001B[1;32m~\\PycharmProjects\\abTEM\\abtem\\waves.py\u001B[0m in \u001B[0;36mmultislice\u001B[1;34m(self, potential, pbar, detector, max_batch_potential)\u001B[0m\n\u001B[0;32m    501\u001B[0m                 \u001B[0mmultislice_pbar\u001B[0m\u001B[1;33m.\u001B[0m\u001B[0mreset\u001B[0m\u001B[1;33m(\u001B[0m\u001B[1;33m)\u001B[0m\u001B[1;33m\u001B[0m\u001B[1;33m\u001B[0m\u001B[0m\n\u001B[0;32m    502\u001B[0m \u001B[1;33m\u001B[0m\u001B[0m\n\u001B[1;32m--> 503\u001B[1;33m                 exit_waves = _multislice(copy(self),\n\u001B[0m\u001B[0;32m    504\u001B[0m                                          \u001B[0mpotential_config\u001B[0m\u001B[1;33m,\u001B[0m\u001B[1;33m\u001B[0m\u001B[1;33m\u001B[0m\u001B[0m\n\u001B[0;32m    505\u001B[0m                                          \u001B[0mpropagator\u001B[0m\u001B[1;33m=\u001B[0m\u001B[0mpropagator\u001B[0m\u001B[1;33m,\u001B[0m\u001B[1;33m\u001B[0m\u001B[1;33m\u001B[0m\u001B[0m\n",
      "\u001B[1;32m~\\PycharmProjects\\abTEM\\abtem\\waves.py\u001B[0m in \u001B[0;36m_multislice\u001B[1;34m(waves, potential, propagator, pbar, max_batch)\u001B[0m\n\u001B[0;32m    115\u001B[0m     \u001B[0mpbar\u001B[0m\u001B[1;33m.\u001B[0m\u001B[0mreset\u001B[0m\u001B[1;33m(\u001B[0m\u001B[1;33m)\u001B[0m\u001B[1;33m\u001B[0m\u001B[1;33m\u001B[0m\u001B[0m\n\u001B[0;32m    116\u001B[0m     \u001B[1;32mif\u001B[0m \u001B[0mmax_batch\u001B[0m \u001B[1;33m==\u001B[0m \u001B[1;36m1\u001B[0m\u001B[1;33m:\u001B[0m\u001B[1;33m\u001B[0m\u001B[1;33m\u001B[0m\u001B[0m\n\u001B[1;32m--> 117\u001B[1;33m         \u001B[1;32mfor\u001B[0m \u001B[0mstart\u001B[0m\u001B[1;33m,\u001B[0m \u001B[0mend\u001B[0m\u001B[1;33m,\u001B[0m \u001B[0mt\u001B[0m \u001B[1;32min\u001B[0m \u001B[0mpotential\u001B[0m\u001B[1;33m.\u001B[0m\u001B[0mgenerate_transmission_functions\u001B[0m\u001B[1;33m(\u001B[0m\u001B[0menergy\u001B[0m\u001B[1;33m=\u001B[0m\u001B[0mwaves\u001B[0m\u001B[1;33m.\u001B[0m\u001B[0menergy\u001B[0m\u001B[1;33m,\u001B[0m \u001B[0mmax_batch\u001B[0m\u001B[1;33m=\u001B[0m\u001B[1;36m1\u001B[0m\u001B[1;33m)\u001B[0m\u001B[1;33m:\u001B[0m\u001B[1;33m\u001B[0m\u001B[1;33m\u001B[0m\u001B[0m\n\u001B[0m\u001B[0;32m    118\u001B[0m             \u001B[0mwaves\u001B[0m \u001B[1;33m=\u001B[0m \u001B[0mt\u001B[0m\u001B[1;33m.\u001B[0m\u001B[0mtransmit\u001B[0m\u001B[1;33m(\u001B[0m\u001B[0mwaves\u001B[0m\u001B[1;33m)\u001B[0m\u001B[1;33m\u001B[0m\u001B[1;33m\u001B[0m\u001B[0m\n\u001B[0;32m    119\u001B[0m             \u001B[0mwaves\u001B[0m \u001B[1;33m=\u001B[0m \u001B[0mpropagator\u001B[0m\u001B[1;33m.\u001B[0m\u001B[0mpropagate\u001B[0m\u001B[1;33m(\u001B[0m\u001B[0mwaves\u001B[0m\u001B[1;33m,\u001B[0m \u001B[0mt\u001B[0m\u001B[1;33m.\u001B[0m\u001B[0mthickness\u001B[0m\u001B[1;33m)\u001B[0m\u001B[1;33m\u001B[0m\u001B[1;33m\u001B[0m\u001B[0m\n",
      "\u001B[1;32m~\\PycharmProjects\\abTEM\\abtem\\potentials.py\u001B[0m in \u001B[0;36mgenerate_transmission_functions\u001B[1;34m(self, energy, first_slice, last_slice, max_batch)\u001B[0m\n\u001B[0;32m     89\u001B[0m         \u001B[0mantialias_filter\u001B[0m \u001B[1;33m=\u001B[0m \u001B[0mAntialiasFilter\u001B[0m\u001B[1;33m(\u001B[0m\u001B[1;33m)\u001B[0m\u001B[1;33m\u001B[0m\u001B[1;33m\u001B[0m\u001B[0m\n\u001B[0;32m     90\u001B[0m \u001B[1;33m\u001B[0m\u001B[0m\n\u001B[1;32m---> 91\u001B[1;33m         \u001B[1;32mfor\u001B[0m \u001B[0mstart\u001B[0m\u001B[1;33m,\u001B[0m \u001B[0mend\u001B[0m\u001B[1;33m,\u001B[0m \u001B[0mpotential_slice\u001B[0m \u001B[1;32min\u001B[0m \u001B[0mself\u001B[0m\u001B[1;33m.\u001B[0m\u001B[0mgenerate_slices\u001B[0m\u001B[1;33m(\u001B[0m\u001B[0mfirst_slice\u001B[0m\u001B[1;33m,\u001B[0m \u001B[0mlast_slice\u001B[0m\u001B[1;33m,\u001B[0m \u001B[0mmax_batch\u001B[0m\u001B[1;33m=\u001B[0m\u001B[0mmax_batch\u001B[0m\u001B[1;33m)\u001B[0m\u001B[1;33m:\u001B[0m\u001B[1;33m\u001B[0m\u001B[1;33m\u001B[0m\u001B[0m\n\u001B[0m\u001B[0;32m     92\u001B[0m             yield start, end, potential_slice.as_transmission_function(energy,\n\u001B[0;32m     93\u001B[0m                                                                        \u001B[0min_place\u001B[0m\u001B[1;33m=\u001B[0m\u001B[1;32mTrue\u001B[0m\u001B[1;33m,\u001B[0m\u001B[1;33m\u001B[0m\u001B[1;33m\u001B[0m\u001B[0m\n",
      "\u001B[1;32m~\\PycharmProjects\\abTEM\\abtem\\potentials.py\u001B[0m in \u001B[0;36m_generate_slices_infinite\u001B[1;34m(self, first_slice, last_slice, max_batch)\u001B[0m\n\u001B[0;32m    886\u001B[0m                     \u001B[0mchunk_positions\u001B[0m \u001B[1;33m=\u001B[0m \u001B[0mxp\u001B[0m\u001B[1;33m.\u001B[0m\u001B[0masarray\u001B[0m\u001B[1;33m(\u001B[0m\u001B[0mchunk_positions\u001B[0m\u001B[1;33m[\u001B[0m\u001B[1;33m:\u001B[0m\u001B[1;33m,\u001B[0m \u001B[1;33m:\u001B[0m\u001B[1;36m2\u001B[0m\u001B[1;33m]\u001B[0m \u001B[1;33m/\u001B[0m \u001B[0mself\u001B[0m\u001B[1;33m.\u001B[0m\u001B[0msampling\u001B[0m\u001B[1;33m)\u001B[0m\u001B[1;33m\u001B[0m\u001B[1;33m\u001B[0m\u001B[0m\n\u001B[0;32m    887\u001B[0m \u001B[1;33m\u001B[0m\u001B[0m\n\u001B[1;32m--> 888\u001B[1;33m                     \u001B[0msuperpose_deltas\u001B[0m\u001B[1;33m(\u001B[0m\u001B[0mchunk_positions\u001B[0m\u001B[1;33m,\u001B[0m \u001B[0mchunk_slice_idx\u001B[0m\u001B[1;33m,\u001B[0m \u001B[0mtemp\u001B[0m\u001B[1;33m)\u001B[0m\u001B[1;33m\u001B[0m\u001B[1;33m\u001B[0m\u001B[0m\n\u001B[0m\u001B[0;32m    889\u001B[0m                     \u001B[0mfft2_convolve\u001B[0m\u001B[1;33m(\u001B[0m\u001B[0mtemp\u001B[0m\u001B[1;33m,\u001B[0m \u001B[0mscattering_factors\u001B[0m\u001B[1;33m[\u001B[0m\u001B[0mnumber\u001B[0m\u001B[1;33m]\u001B[0m\u001B[1;33m)\u001B[0m\u001B[1;33m\u001B[0m\u001B[1;33m\u001B[0m\u001B[0m\n\u001B[0;32m    890\u001B[0m \u001B[1;33m\u001B[0m\u001B[0m\n",
      "\u001B[1;32m~\\PycharmProjects\\abTEM\\abtem\\potentials.py\u001B[0m in \u001B[0;36msuperpose_deltas\u001B[1;34m(positions, z, array)\u001B[0m\n\u001B[0;32m    403\u001B[0m \u001B[1;33m\u001B[0m\u001B[0m\n\u001B[0;32m    404\u001B[0m     \u001B[0marray\u001B[0m\u001B[1;33m[\u001B[0m\u001B[0mz\u001B[0m\u001B[1;33m,\u001B[0m \u001B[0mrows\u001B[0m\u001B[1;33m,\u001B[0m \u001B[0mcols\u001B[0m\u001B[1;33m]\u001B[0m \u001B[1;33m+=\u001B[0m \u001B[1;33m(\u001B[0m\u001B[1;36m1\u001B[0m \u001B[1;33m-\u001B[0m \u001B[1;33m(\u001B[0m\u001B[0mpositions\u001B[0m\u001B[1;33m[\u001B[0m\u001B[1;33m:\u001B[0m\u001B[1;33m,\u001B[0m \u001B[1;36m0\u001B[0m\u001B[1;33m]\u001B[0m \u001B[1;33m-\u001B[0m \u001B[0mrows\u001B[0m\u001B[1;33m)\u001B[0m\u001B[1;33m)\u001B[0m \u001B[1;33m*\u001B[0m \u001B[1;33m(\u001B[0m\u001B[1;36m1\u001B[0m \u001B[1;33m-\u001B[0m \u001B[1;33m(\u001B[0m\u001B[0mpositions\u001B[0m\u001B[1;33m[\u001B[0m\u001B[1;33m:\u001B[0m\u001B[1;33m,\u001B[0m \u001B[1;36m1\u001B[0m\u001B[1;33m]\u001B[0m \u001B[1;33m-\u001B[0m \u001B[0mcols\u001B[0m\u001B[1;33m)\u001B[0m\u001B[1;33m)\u001B[0m\u001B[1;33m\u001B[0m\u001B[1;33m\u001B[0m\u001B[0m\n\u001B[1;32m--> 405\u001B[1;33m     \u001B[0marray\u001B[0m\u001B[1;33m[\u001B[0m\u001B[0mz\u001B[0m\u001B[1;33m,\u001B[0m \u001B[1;33m(\u001B[0m\u001B[0mrows\u001B[0m \u001B[1;33m+\u001B[0m \u001B[1;36m1\u001B[0m\u001B[1;33m)\u001B[0m \u001B[1;33m%\u001B[0m \u001B[0mshape\u001B[0m\u001B[1;33m[\u001B[0m\u001B[1;36m0\u001B[0m\u001B[1;33m]\u001B[0m\u001B[1;33m,\u001B[0m \u001B[0mcols\u001B[0m\u001B[1;33m]\u001B[0m \u001B[1;33m+=\u001B[0m \u001B[1;33m(\u001B[0m\u001B[0mpositions\u001B[0m\u001B[1;33m[\u001B[0m\u001B[1;33m:\u001B[0m\u001B[1;33m,\u001B[0m \u001B[1;36m0\u001B[0m\u001B[1;33m]\u001B[0m \u001B[1;33m-\u001B[0m \u001B[0mrows\u001B[0m\u001B[1;33m)\u001B[0m \u001B[1;33m*\u001B[0m \u001B[1;33m(\u001B[0m\u001B[1;36m1\u001B[0m \u001B[1;33m-\u001B[0m \u001B[1;33m(\u001B[0m\u001B[0mpositions\u001B[0m\u001B[1;33m[\u001B[0m\u001B[1;33m:\u001B[0m\u001B[1;33m,\u001B[0m \u001B[1;36m1\u001B[0m\u001B[1;33m]\u001B[0m \u001B[1;33m-\u001B[0m \u001B[0mcols\u001B[0m\u001B[1;33m)\u001B[0m\u001B[1;33m)\u001B[0m\u001B[1;33m\u001B[0m\u001B[1;33m\u001B[0m\u001B[0m\n\u001B[0m\u001B[0;32m    406\u001B[0m     \u001B[0marray\u001B[0m\u001B[1;33m[\u001B[0m\u001B[0mz\u001B[0m\u001B[1;33m,\u001B[0m \u001B[0mrows\u001B[0m\u001B[1;33m,\u001B[0m \u001B[1;33m(\u001B[0m\u001B[0mcols\u001B[0m \u001B[1;33m+\u001B[0m \u001B[1;36m1\u001B[0m\u001B[1;33m)\u001B[0m \u001B[1;33m%\u001B[0m \u001B[0mshape\u001B[0m\u001B[1;33m[\u001B[0m\u001B[1;36m1\u001B[0m\u001B[1;33m]\u001B[0m\u001B[1;33m]\u001B[0m \u001B[1;33m+=\u001B[0m \u001B[1;33m(\u001B[0m\u001B[1;36m1\u001B[0m \u001B[1;33m-\u001B[0m \u001B[1;33m(\u001B[0m\u001B[0mpositions\u001B[0m\u001B[1;33m[\u001B[0m\u001B[1;33m:\u001B[0m\u001B[1;33m,\u001B[0m \u001B[1;36m0\u001B[0m\u001B[1;33m]\u001B[0m \u001B[1;33m-\u001B[0m \u001B[0mrows\u001B[0m\u001B[1;33m)\u001B[0m\u001B[1;33m)\u001B[0m \u001B[1;33m*\u001B[0m \u001B[1;33m(\u001B[0m\u001B[0mpositions\u001B[0m\u001B[1;33m[\u001B[0m\u001B[1;33m:\u001B[0m\u001B[1;33m,\u001B[0m \u001B[1;36m1\u001B[0m\u001B[1;33m]\u001B[0m \u001B[1;33m-\u001B[0m \u001B[0mcols\u001B[0m\u001B[1;33m)\u001B[0m\u001B[1;33m\u001B[0m\u001B[1;33m\u001B[0m\u001B[0m\n\u001B[0;32m    407\u001B[0m     \u001B[0marray\u001B[0m\u001B[1;33m[\u001B[0m\u001B[0mz\u001B[0m\u001B[1;33m,\u001B[0m \u001B[1;33m(\u001B[0m\u001B[0mrows\u001B[0m \u001B[1;33m+\u001B[0m \u001B[1;36m1\u001B[0m\u001B[1;33m)\u001B[0m \u001B[1;33m%\u001B[0m \u001B[0mshape\u001B[0m\u001B[1;33m[\u001B[0m\u001B[1;36m0\u001B[0m\u001B[1;33m]\u001B[0m\u001B[1;33m,\u001B[0m \u001B[1;33m(\u001B[0m\u001B[0mcols\u001B[0m \u001B[1;33m+\u001B[0m \u001B[1;36m1\u001B[0m\u001B[1;33m)\u001B[0m \u001B[1;33m%\u001B[0m \u001B[0mshape\u001B[0m\u001B[1;33m[\u001B[0m\u001B[1;36m1\u001B[0m\u001B[1;33m]\u001B[0m\u001B[1;33m]\u001B[0m \u001B[1;33m+=\u001B[0m \u001B[1;33m(\u001B[0m\u001B[0mrows\u001B[0m \u001B[1;33m-\u001B[0m \u001B[0mpositions\u001B[0m\u001B[1;33m[\u001B[0m\u001B[1;33m:\u001B[0m\u001B[1;33m,\u001B[0m \u001B[1;36m0\u001B[0m\u001B[1;33m]\u001B[0m\u001B[1;33m)\u001B[0m \u001B[1;33m*\u001B[0m \u001B[1;33m(\u001B[0m\u001B[0mcols\u001B[0m \u001B[1;33m-\u001B[0m \u001B[0mpositions\u001B[0m\u001B[1;33m[\u001B[0m\u001B[1;33m:\u001B[0m\u001B[1;33m,\u001B[0m \u001B[1;36m1\u001B[0m\u001B[1;33m]\u001B[0m\u001B[1;33m)\u001B[0m\u001B[1;33m\u001B[0m\u001B[1;33m\u001B[0m\u001B[0m\n",
      "\u001B[1;32mcupy\\_core\\core.pyx\u001B[0m in \u001B[0;36mcupy._core.core.ndarray.__getitem__\u001B[1;34m()\u001B[0m\n",
      "\u001B[1;32mcupy\\_core\\_routines_indexing.pyx\u001B[0m in \u001B[0;36mcupy._core._routines_indexing._ndarray_getitem\u001B[1;34m()\u001B[0m\n",
      "\u001B[1;32mcupy\\_core\\_routines_indexing.pyx\u001B[0m in \u001B[0;36mcupy._core._routines_indexing._getitem_multiple\u001B[1;34m()\u001B[0m\n",
      "\u001B[1;32mcupy\\_core\\_routines_indexing.pyx\u001B[0m in \u001B[0;36mcupy._core._routines_indexing._take\u001B[1;34m()\u001B[0m\n",
      "\u001B[1;32m~\\anaconda3\\envs\\abTEM_interactive\\lib\\site-packages\\numpy\\core\\numeric.py\u001B[0m in \u001B[0;36misscalar\u001B[1;34m(element)\u001B[0m\n\u001B[0;32m   1863\u001B[0m \u001B[1;33m\u001B[0m\u001B[0m\n\u001B[0;32m   1864\u001B[0m \u001B[1;33m\u001B[0m\u001B[0m\n\u001B[1;32m-> 1865\u001B[1;33m \u001B[1;33m@\u001B[0m\u001B[0mset_module\u001B[0m\u001B[1;33m(\u001B[0m\u001B[1;34m'numpy'\u001B[0m\u001B[1;33m)\u001B[0m\u001B[1;33m\u001B[0m\u001B[1;33m\u001B[0m\u001B[0m\n\u001B[0m\u001B[0;32m   1866\u001B[0m \u001B[1;32mdef\u001B[0m \u001B[0misscalar\u001B[0m\u001B[1;33m(\u001B[0m\u001B[0melement\u001B[0m\u001B[1;33m)\u001B[0m\u001B[1;33m:\u001B[0m\u001B[1;33m\u001B[0m\u001B[1;33m\u001B[0m\u001B[0m\n\u001B[0;32m   1867\u001B[0m     \"\"\"\n",
      "\u001B[1;31mKeyboardInterrupt\u001B[0m: "
     ]
    }
   ],
   "source": [
    "detector = PixelatedDetector(max_angle='limit')\n",
    "measurement = probe.build().multislice(md_potential, pbar=True, detector=detector, max_batch_potential=1)\n",
    "measurement.write('cbed_md_si100.hdf5')\n",
    "\n",
    "detector = PixelatedDetector(max_angle='limit')\n",
    "measurement = probe.build().multislice(einstein_potential, pbar=True, detector=detector, max_batch_potential=1)\n",
    "measurement.write('cbed_einstein_si100.hdf5')"
   ]
  },
  {
   "cell_type": "code",
   "execution_count": null,
   "metadata": {
    "pycharm": {
     "is_executing": true
    }
   },
   "outputs": [],
   "source": [
    "md_measurement = Measurement.read('cbed_md_si100.hdf5')\n",
    "einstein_measurement = Measurement.read('cbed_einstein_si100.hdf5')\n",
    "\n",
    "combined = md_measurement.copy()\n",
    "combined.array[:,combined.array.shape[1]//2:] = einstein_measurement.array[:,combined.array.shape[1]//2:]\n",
    "\n",
    "ax,_=combined.show(power=.4, cmap='inferno')\n",
    "\n",
    "ax.set_xlim([-70,70])\n",
    "ax.set_ylim([-70,70]);"
   ]
  },
  {
   "cell_type": "code",
   "execution_count": null,
   "metadata": {
    "pycharm": {
     "is_executing": true
    }
   },
   "outputs": [],
   "source": []
  },
  {
   "cell_type": "code",
   "execution_count": null,
   "metadata": {
    "pycharm": {
     "is_executing": true
    }
   },
   "outputs": [],
   "source": [
    "planewave = PlaneWave(energy=100e3, device='gpu')\n",
    "planewave.grid.match(md_potential)"
   ]
  },
  {
   "cell_type": "code",
   "execution_count": null,
   "metadata": {
    "pycharm": {
     "is_executing": true
    }
   },
   "outputs": [],
   "source": [
    "detector = PixelatedDetector(max_angle='limit')\n",
    "measurement = planewave.build().multislice(md_potential, pbar=True, detector=detector, max_batch_potential=3)\n",
    "measurement.write('ed_md_si100.hdf5')\n",
    "\n",
    "detector = PixelatedDetector(max_angle='limit')\n",
    "measurement = planewave.build().multislice(einstein_potential, pbar=True, detector=detector, max_batch_potential=3)\n",
    "measurement.write('ed_einstein_si100.hdf5')\n",
    "\n",
    "detector = PixelatedDetector(max_angle='limit')\n",
    "measurement = planewave.build().multislice(elastic_potential, pbar=True, detector=detector, max_batch_potential=3)\n",
    "measurement.write('ed_elastic_si100.hdf5')"
   ]
  },
  {
   "cell_type": "code",
   "execution_count": null,
   "metadata": {
    "pycharm": {
     "is_executing": true
    }
   },
   "outputs": [],
   "source": [
    "einstein_measurement = Measurement.read('ed_einstein_si100.hdf5')\n",
    "md_measurement = Measurement.read('ed_md_si100.hdf5')\n",
    "elastic_measurement = Measurement.read('ed_elastic_si100.hdf5')\n",
    "\n",
    "fig,ax=plt.subplots(figsize=(4,2.1))\n",
    "\n",
    "rotational_average(elastic_measurement).show(ax=ax, label='Elastic', color='k')\n",
    "rotational_average(md_measurement).show(ax=ax, label='MD', linestyle='--', color='r')\n",
    "rotational_average(einstein_measurement).show(ax=ax, label='Einstein', legend=True, linestyle='-.', color='dodgerblue')\n",
    "\n",
    "ax.set_xlim([0,50])\n",
    "ax.set_ylim([0,md_measurement.array.max()*1e-4])\n",
    "ax.set_yticks([])\n",
    "ax.set_xlabel('Scattering angle [mrad]')\n",
    "ax.set_ylabel('Intensity [arb. unit]')\n",
    "plt.tight_layout()\n",
    "\n",
    "fig,ax=plt.subplots(figsize=(4,2.1))\n",
    "rotational_average(elastic_measurement).show(ax=ax, color='k')\n",
    "rotational_average(md_measurement).show(ax=ax, linestyle='--', color='r')\n",
    "rotational_average(einstein_measurement).show(ax=ax, linestyle='-.', color='dodgerblue')\n",
    "\n",
    "ax.set_xlim([50,110])\n",
    "ax.set_ylim([0,md_measurement.array.max()*4e-6])\n",
    "ax.set_yticks([])\n",
    "ax.set_xlabel('Scattering angle [mrad]')\n",
    "ax.set_ylabel('Intensity [arb. unit]')\n",
    "plt.tight_layout()"
   ]
  }
 ],
 "metadata": {
  "kernelspec": {
   "name": "abtem_interactive",
   "language": "python",
   "display_name": "abTEM_interactive"
  },
  "language_info": {
   "codemirror_mode": {
    "name": "ipython",
    "version": 3
   },
   "file_extension": ".py",
   "mimetype": "text/x-python",
   "name": "python",
   "nbconvert_exporter": "python",
   "pygments_lexer": "ipython3",
   "version": "3.8.5"
  }
 },
 "nbformat": 4,
 "nbformat_minor": 4
}