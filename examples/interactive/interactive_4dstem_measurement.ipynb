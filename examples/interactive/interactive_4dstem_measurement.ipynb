{
 "cells": [
  {
   "cell_type": "code",
   "execution_count": 1,
   "metadata": {},
   "outputs": [
    {
     "name": "stdout",
     "output_type": "stream",
     "text": [
      "current version: 1.0.0beta20\n"
     ]
    }
   ],
   "source": [
    "from abtem import __version__\n",
    "print('current version:', __version__)\n",
    "\n",
    "import matplotlib.pyplot as plt\n",
    "from ase.build import mx2\n",
    "\n",
    "from abtem import *\n",
    "from abtem.structures import orthogonalize_cell\n",
    "\n",
    "from abtem.visualize.interactive.apps import ArrayView1d, MeasurementView2d\n",
    "from abtem.visualize.interactive.tools import PanZoomTool, BoxZoomTool, SelectPixelTool\n",
    "from abtem.visualize.interactive.artists import ImageArtist, ColorBar\n",
    "from abtem.visualize.interactive.utils import throttle\n",
    "import ipywidgets as widgets\n",
    "from traitlets import link\n",
    "import numpy as np\n",
    "from tqdm.auto import tqdm"
   ]
  },
  {
   "cell_type": "markdown",
   "metadata": {},
   "source": [
    "# Exploring 4D-STEM dataset"
   ]
  },
  {
   "cell_type": "code",
   "execution_count": 2,
   "metadata": {},
   "outputs": [],
   "source": [
    "atoms = mx2(formula='MoS2', kind='2H', a=3.18, thickness=3.19, size=(1, 1, 1), vacuum=None)\n",
    "\n",
    "repetitions = (7, 4, 1)\n",
    "\n",
    "atoms = orthogonalize_cell(atoms)\n",
    "\n",
    "atoms *= repetitions\n",
    "\n",
    "atoms.center(vacuum=2, axis=2)\n",
    "\n",
    "atoms *= (1,1,3)"
   ]
  },
  {
   "cell_type": "code",
   "execution_count": 3,
   "metadata": {},
   "outputs": [],
   "source": [
    "potential = Potential(atoms, \n",
    "                      gpts=512,\n",
    "                      projection='finite', \n",
    "                      slice_thickness=1, \n",
    "                      parametrization='kirkland').build(pbar=False)\n",
    "\n",
    "\n",
    "S = SMatrix(energy=80e3, semiangle_cutoff=20, expansion_cutoff=20, device='cpu', rolloff=0.1)\n",
    "\n",
    "S.grid.match(potential)\n",
    "\n",
    "detector = PixelatedDetector()\n",
    "\n",
    "scan_end = (potential.extent[0] / repetitions[0], potential.extent[1] / repetitions[1])\n",
    "gridscan = GridScan(start=[0, 0], end=scan_end, sampling=S.ctf.nyquist_sampling * .25)\n",
    "\n",
    "measurement = S.scan(gridscan, detector, potential, pbar=False)\n",
    "\n",
    "annular_detector = AnnularDetector(40,100)\n",
    "annular_measurement = annular_detector.integrate(measurement)"
   ]
  },
  {
   "cell_type": "code",
   "execution_count": 4,
   "metadata": {
    "scrolled": false
   },
   "outputs": [
    {
     "data": {
      "application/vnd.jupyter.widget-view+json": {
       "model_id": "341cc1c8f2da4d95be4ef9dde2b46cf0",
       "version_major": 2,
       "version_minor": 0
      },
      "text/plain": [
       "HBox(children=(VBox(children=(Figure(axes=[Axis(label='x [Å]', scale=LinearScale(allow_padding=False, max=4.28…"
      ]
     },
     "metadata": {},
     "output_type": "display_data"
    }
   ],
   "source": [
    "view1 = MeasurementView2d(annular_measurement)\n",
    "view2 = MeasurementView2d(measurement, navigation_axes=(0,1))\n",
    "\n",
    "view1.canvas.tools = {'Select':SelectPixelTool(view1._array_view._image_artist)}\n",
    "view2.canvas.tools = {'PanZoom':PanZoomTool(), 'BoxZoom':BoxZoomTool()}\n",
    "\n",
    "link((view1.canvas.tools['Select'], 'index_x'), (view2._array_view._sliders[0], 'value'))\n",
    "link((view1.canvas.tools['Select'], 'index_y'), (view2._array_view._sliders[1], 'value'))\n",
    "\n",
    "view1.artist.color_bar.label = 'Intensity [arb. unit]'\n",
    "view2.artist.color_bar.label = 'Intensity [arb. unit]'\n",
    "\n",
    "widgets.HBox([widgets.VBox([view1.figure, view1.artist.color_bar, \n",
    "                            view1.canvas.toolbar, view1.artist.color_scheme_picker]),\n",
    "              \n",
    "              widgets.VBox([view2.figure, view2.artist.color_bar, \n",
    "                            view2.canvas.toolbar, view2.artist.color_scheme_picker]), ])"
   ]
  },
  {
   "cell_type": "code",
   "execution_count": 5,
   "metadata": {},
   "outputs": [
    {
     "data": {
      "application/vnd.jupyter.widget-view+json": {
       "model_id": "312bba09dca541adae30ed64d7ab78ac",
       "version_major": 2,
       "version_minor": 0
      },
      "text/plain": [
       "FloatSlider(value=1.0, description='Power', max=1.0, min=0.001, step=0.001)"
      ]
     },
     "metadata": {},
     "output_type": "display_data"
    }
   ],
   "source": [
    "view2.artist.power_scale_slider"
   ]
  }
 ],
 "metadata": {
  "kernelspec": {
   "display_name": "abtem",
   "language": "python",
   "name": "abtem"
  },
  "language_info": {
   "codemirror_mode": {
    "name": "ipython",
    "version": 3
   },
   "file_extension": ".py",
   "mimetype": "text/x-python",
   "name": "python",
   "nbconvert_exporter": "python",
   "pygments_lexer": "ipython3",
   "version": "3.8.5"
  }
 },
 "nbformat": 4,
 "nbformat_minor": 4
}
