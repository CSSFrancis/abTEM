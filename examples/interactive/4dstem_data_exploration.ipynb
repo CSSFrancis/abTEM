{
 "cells": [
  {
   "cell_type": "code",
   "execution_count": 94,
   "metadata": {},
   "outputs": [],
   "source": [
    "import numpy as np\n",
    "\n",
    "from abtem import PixelatedDetector, SMatrix, GridScan, AnnularDetector, Potential, Probe\n",
    "from ase.cluster import Decahedron"
   ]
  },
  {
   "cell_type": "code",
   "execution_count": 172,
   "metadata": {},
   "outputs": [],
   "source": [
    "p = 4\n",
    "q = 2\n",
    "r = 1\n",
    "\n",
    "atoms = Decahedron('Au', p, q, r, latticeconstant=None)\n",
    "#atoms.rotate(30, 'x', center='cop')\n",
    "\n",
    "atoms.center(vacuum=2)"
   ]
  },
  {
   "cell_type": "code",
   "execution_count": 237,
   "metadata": {},
   "outputs": [
    {
     "data": {
      "application/vnd.jupyter.widget-view+json": {
       "model_id": "ecf9ef625854405fae7b553fe0dfb825",
       "version_major": 2,
       "version_minor": 0
      },
      "text/plain": [
       "HBox(children=(FloatProgress(value=0.0, description='Potential', max=43.0, style=ProgressStyle(description_wid…"
      ]
     },
     "metadata": {},
     "output_type": "display_data"
    },
    {
     "data": {
      "application/vnd.jupyter.widget-view+json": {
       "model_id": "293df3b938ef4de895643fdef37d9348",
       "version_major": 2,
       "version_minor": 0
      },
      "text/plain": [
       "HBox(children=(FloatProgress(value=0.0, description='Multislice', max=37.0, style=ProgressStyle(description_wi…"
      ]
     },
     "metadata": {},
     "output_type": "display_data"
    },
    {
     "data": {
      "application/vnd.jupyter.widget-view+json": {
       "model_id": "072792cdf59244f694604e07aed2f7ed",
       "version_major": 2,
       "version_minor": 0
      },
      "text/plain": [
       "HBox(children=(FloatProgress(value=0.0, description='Scan', max=960.0, style=ProgressStyle(description_width='…"
      ]
     },
     "metadata": {},
     "output_type": "display_data"
    },
    {
     "name": "stdout",
     "output_type": "stream",
     "text": [
      "\n",
      "\n",
      "\n"
     ]
    }
   ],
   "source": [
    "potential = Potential(atoms=atoms, projection='infinite', parametrization='kirkland')\n",
    "S = SMatrix(semiangle_cutoff = 10, energy=100e3, gpts=512, interpolation=2)\n",
    "\n",
    "detector = PixelatedDetector(resample='uniform')\n",
    "\n",
    "scan = GridScan((0,0), np.diag(atoms.cell)[:2], sampling=S.ctf.nyquist_sampling*.9)\n",
    "\n",
    "measurement = S.scan(scan, detector, potential)"
   ]
  },
  {
   "cell_type": "code",
   "execution_count": 274,
   "metadata": {},
   "outputs": [
    {
     "name": "stdout",
     "output_type": "stream",
     "text": [
      "(60, 60, 113, 113)\n"
     ]
    },
    {
     "data": {
      "text/plain": [
       "<matplotlib.image.AxesImage at 0x12b179e5e20>"
      ]
     },
     "execution_count": 274,
     "metadata": {},
     "output_type": "execute_result"
    },
    {
     "data": {
      "image/png": "[encoded data removed]",
      "text/plain": [
       "<Figure size 432x288 with 1 Axes>"
      ]
     },
     "metadata": {
      "needs_background": "light"
     },
     "output_type": "display_data"
    }
   ],
   "source": [
    "from abtem.utils import fft_interpolate_2d, fft_crop\n",
    "import matplotlib.pyplot as plt\n",
    "\n",
    "array = measurement.array\n",
    "\n",
    "old_shape = array.shape\n",
    "\n",
    "#array = array.reshape(array.shape[:2] + (-1,))\n",
    "\n",
    "axes = (2,3)\n",
    "\n",
    "array = np.moveaxis(array, axes, range(len(axes)))\n",
    "\n",
    "rolled_shape = array.shape\n",
    "    \n",
    "array = array.reshape((-1,) + array.shape[-2:])\n",
    "array = fft_interpolate_2d(array, (60,60))\n",
    "array = array.reshape(rolled_shape[:len(axes)] + array.shape[-2:])\n",
    "array = np.moveaxis(array, range(len(axes)), axes)\n",
    "\n",
    "\n",
    "#print(array.shape, axis)\n",
    "\n",
    "print(array.shape)\n",
    "\n",
    "#array = np.rollaxis(array, axis=0, start=3)\n",
    "#array = array.reshape(array.shape[:2] + old_shape[-2:])\n",
    "\n",
    "plt.imshow(array[...,7,0])\n",
    "\n",
    "#new_shape = (20,20,20,20)\n",
    "#fft_crop(array, new_shape)\n",
    "\n",
    "#new_array = fft_interpolate_2d(array, (20,20,20,20))"
   ]
  },
  {
   "cell_type": "code",
   "execution_count": 247,
   "metadata": {},
   "outputs": [
    {
     "data": {
      "text/plain": [
       "(12769, 60, 60)"
      ]
     },
     "execution_count": 247,
     "metadata": {},
     "output_type": "execute_result"
    }
   ],
   "source": [
    "array.shape"
   ]
  },
  {
   "cell_type": "code",
   "execution_count": 232,
   "metadata": {},
   "outputs": [
    {
     "data": {
      "text/plain": [
       "<matplotlib.image.AxesImage at 0x12b17423e20>"
      ]
     },
     "execution_count": 232,
     "metadata": {},
     "output_type": "execute_result"
    },
    {
     "data": {
      "image/png": "[encoded data removed]",
      "text/plain": [
       "<Figure size 432x288 with 1 Axes>"
      ]
     },
     "metadata": {
      "needs_background": "light"
     },
     "output_type": "display_data"
    }
   ],
   "source": [
    "plt.imshow(array[:,:,7,0])"
   ]
  },
  {
   "cell_type": "code",
   "execution_count": 178,
   "metadata": {},
   "outputs": [
    {
     "data": {
      "application/vnd.jupyter.widget-view+json": {
       "model_id": "0cfc35bcd4c44b2e91e668ab9c66d0d8",
       "version_major": 2,
       "version_minor": 0
      },
      "text/plain": [
       "HBox(children=(FloatProgress(value=0.0, description='Potential', max=43.0, style=ProgressStyle(description_wid…"
      ]
     },
     "metadata": {},
     "output_type": "display_data"
    },
    {
     "data": {
      "application/vnd.jupyter.widget-view+json": {
       "model_id": "7f59ec9339124eafb59415b82fd3dc71",
       "version_major": 2,
       "version_minor": 0
      },
      "text/plain": [
       "HBox(children=(FloatProgress(value=0.0, description='Multislice', max=37.0, style=ProgressStyle(description_wi…"
      ]
     },
     "metadata": {},
     "output_type": "display_data"
    },
    {
     "data": {
      "application/vnd.jupyter.widget-view+json": {
       "model_id": "f04cb79a98994a38a24a91153f19b659",
       "version_major": 2,
       "version_minor": 0
      },
      "text/plain": [
       "HBox(children=(FloatProgress(value=0.0, description='Scan', max=960.0, style=ProgressStyle(description_width='…"
      ]
     },
     "metadata": {},
     "output_type": "display_data"
    },
    {
     "name": "stdout",
     "output_type": "stream",
     "text": [
      "\n",
      "\n",
      "\n"
     ]
    }
   ],
   "source": [
    "measurement = S.scan(scan, detector, potential)"
   ]
  },
  {
   "cell_type": "code",
   "execution_count": 184,
   "metadata": {},
   "outputs": [
    {
     "data": {
      "text/plain": [
       "(<AxesSubplot:xlabel='x [Å]', ylabel='y [Å]'>,\n",
       " <matplotlib.image.AxesImage at 0x12b16a8cb20>)"
      ]
     },
     "execution_count": 184,
     "metadata": {},
     "output_type": "execute_result"
    },
    {
     "data": {
      "image/png": "[encoded data removed]",
      "text/plain": [
       "<Figure size 432x288 with 1 Axes>"
      ]
     },
     "metadata": {
      "needs_background": "light"
     },
     "output_type": "display_data"
    }
   ],
   "source": [
    "measurement[:,:,20,20].show()"
   ]
  },
  {
   "cell_type": "code",
   "execution_count": 179,
   "metadata": {},
   "outputs": [
    {
     "data": {
      "text/plain": [
       "(<AxesSubplot:xlabel='x [Å]', ylabel='y [Å]'>,\n",
       " <matplotlib.image.AxesImage at 0x12b171a6ac0>)"
      ]
     },
     "execution_count": 179,
     "metadata": {},
     "output_type": "execute_result"
    },
    {
     "data": {
      "image/png": "[encoded data removed]",
      "text/plain": [
       "<Figure size 432x288 with 1 Axes>"
      ]
     },
     "metadata": {
      "needs_background": "light"
     },
     "output_type": "display_data"
    }
   ],
   "source": [
    "#AnnularDetector(30,80).integrate(measurement).interpolate.show()"
   ]
  },
  {
   "cell_type": "code",
   "execution_count": 2,
   "metadata": {},
   "outputs": [],
   "source": [
    "import numpy as np"
   ]
  },
  {
   "cell_type": "code",
   "execution_count": 3,
   "metadata": {},
   "outputs": [],
   "source": [
    "data = np.random.rand(10,10,10,10)"
   ]
  },
  {
   "cell_type": "code",
   "execution_count": null,
   "metadata": {},
   "outputs": [],
   "source": [
    "throttling = 0.05\n",
    "\n",
    "canvas1 = Canvas()\n",
    "canvas2 = Canvas()\n",
    "\n",
    "probe_artist = MeasurementArtist2d()\n",
    "diffraction_artist = MeasurementArtist2d()"
   ]
  }
 ],
 "metadata": {
  "kernelspec": {
   "display_name": "abtem",
   "language": "python",
   "name": "abtem"
  },
  "language_info": {
   "codemirror_mode": {
    "name": "ipython",
    "version": 3
   },
   "file_extension": ".py",
   "mimetype": "text/x-python",
   "name": "python",
   "nbconvert_exporter": "python",
   "pygments_lexer": "ipython3",
   "version": "3.8.5"
  }
 },
 "nbformat": 4,
 "nbformat_minor": 4
}
