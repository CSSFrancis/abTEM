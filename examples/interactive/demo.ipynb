{
 "cells": [
  {
   "cell_type": "code",
   "execution_count": 24,
   "metadata": {},
   "outputs": [],
   "source": [
    "import numpy as np\n",
    "import ipywidgets as widgets\n",
    "import time\n",
    "\n",
    "from ase.build import mx2\n",
    "\n",
    "from abtem.structures import orthogonalize_cell\n",
    "from abtem.waves import PlaneWave\n",
    "from abtem.transfer import CTF\n",
    "from abtem.visualize.interactive.canvas import Canvas\n",
    "from abtem.visualize.interactive.artists import ImageArtist, ColorBar, LinesArtist, MeasurementArtist1d, MeasurementArtist2d\n",
    "from abtem.visualize.interactive.tools import PanZoomTool, BoxZoomTool"
   ]
  },
  {
   "cell_type": "markdown",
   "metadata": {},
   "source": [
    "# Demo of abTEM's interactive module"
   ]
  },
  {
   "cell_type": "markdown",
   "metadata": {},
   "source": [
    "This is a short demonstration of abTEM's interactive module. The module is currently under development and everything is subject to change. \n",
    "\n",
    "Interactions in abTEM is based on `ipywidgets`, `bqplot` and `bqplot-image-gl`, all of these packages use the `traitlets` for running 'on change' callbacks. The best way to learn about `bqplot` is the [examples](https://github.com/bqplot/bqplot/tree/master/examples), you can learn about `trailets` through the [documentation](https://traitlets.readthedocs.io/en/stable/using_traitlets.html).\n",
    "\n",
    "The three main types of objects implemented in abTEM interactive module are the `Canvas`, `Artist` and `Tool` object. The goal of the module is simply to act as the glue between abTEM and bqplot to make interactive visualizations of TEM simulations easier."
   ]
  },
  {
   "cell_type": "markdown",
   "metadata": {},
   "source": [
    "## Basics"
   ]
  },
  {
   "cell_type": "markdown",
   "metadata": {},
   "source": [
    "The `Canvas` is a base object on which visualizations can be placed."
   ]
  },
  {
   "cell_type": "code",
   "execution_count": 33,
   "metadata": {},
   "outputs": [
    {
     "data": {
      "application/vnd.jupyter.widget-view+json": {
       "model_id": "1028383954cc49bfa0a9e2f105f0b269",
       "version_major": 2,
       "version_minor": 0
      },
      "text/plain": [
       "Figure(axes=[Axis(scale=LinearScale(allow_padding=False)), Axis(orientation='vertical', scale=LinearScale(allo…"
      ]
     },
     "metadata": {},
     "output_type": "display_data"
    }
   ],
   "source": [
    "canvas = Canvas()\n",
    "canvas.figure"
   ]
  },
  {
   "cell_type": "markdown",
   "metadata": {},
   "source": [
    "An `Artist` is an object that takes some other object as and visualize on a `Canvas`. Below we create an `ImageArtist` which takes a 2d array and visualize it as an image. One `Canvas` can have multiple artists, hence the artists are given as a dictionary."
   ]
  },
  {
   "cell_type": "code",
   "execution_count": 4,
   "metadata": {},
   "outputs": [],
   "source": [
    "artist = ImageArtist()\n",
    "\n",
    "array = np.random.rand(32,32)\n",
    "\n",
    "artist.image = array\n",
    "\n",
    "canvas.artists = {'my_image' : artist}\n",
    "\n",
    "canvas.x_label = 'my_x_label'"
   ]
  },
  {
   "cell_type": "markdown",
   "metadata": {},
   "source": [
    "The visualization can be updated by modifying a trait. Here, we simulate a periodic update of the image."
   ]
  },
  {
   "cell_type": "code",
   "execution_count": 8,
   "metadata": {},
   "outputs": [],
   "source": [
    "for i in range(50):\n",
    "    time.sleep(.025) # some computation\n",
    "    artist.image = np.random.rand(32,32)"
   ]
  },
  {
   "cell_type": "markdown",
   "metadata": {},
   "source": [
    "The artists have some builtin widgets for making common adjustments. "
   ]
  },
  {
   "cell_type": "code",
   "execution_count": 6,
   "metadata": {},
   "outputs": [
    {
     "data": {
      "application/vnd.jupyter.widget-view+json": {
       "model_id": "1e03a5de50a24dd896c63ccb55c994c5",
       "version_major": 2,
       "version_minor": 0
      },
      "text/plain": [
       "Dropdown(description='Scheme', options=('Greys', 'viridis', 'inferno', 'plasma', 'magma', 'Spectral', 'RdBu'),…"
      ]
     },
     "metadata": {},
     "output_type": "display_data"
    }
   ],
   "source": [
    "artist.color_scheme_picker"
   ]
  },
  {
   "cell_type": "markdown",
   "metadata": {},
   "source": [
    "The same can be accomplished by setting the scheme manually."
   ]
  },
  {
   "cell_type": "code",
   "execution_count": 7,
   "metadata": {},
   "outputs": [],
   "source": [
    "artist.color_scheme = 'plasma'"
   ]
  },
  {
   "cell_type": "markdown",
   "metadata": {},
   "source": [
    "A `Tool` can modify the traits of an `Artist` or the `Canvas`. Here we create the basic navigation tools. Picking a tool will activate it on the `Canvas` above. "
   ]
  },
  {
   "cell_type": "code",
   "execution_count": 13,
   "metadata": {},
   "outputs": [],
   "source": [
    "canvas.tools = {'Pan':PanZoomTool(), 'Zoom':BoxZoomTool()}\n",
    "\n",
    "canvas.toolbar"
   ]
  },
  {
   "cell_type": "markdown",
   "metadata": {},
   "source": [
    "Custom interactions can be created using callback functions (scroll up to see the effects)."
   ]
  },
  {
   "cell_type": "code",
   "execution_count": 9,
   "metadata": {},
   "outputs": [
    {
     "data": {
      "application/vnd.jupyter.widget-view+json": {
       "model_id": "5a91e720b87a4307b59a3a298b2f0ba6",
       "version_major": 2,
       "version_minor": 0
      },
      "text/plain": [
       "FloatSlider(value=0.1, max=10.0, min=0.1)"
      ]
     },
     "metadata": {},
     "output_type": "display_data"
    }
   ],
   "source": [
    "array = np.random.rand(32,32) * 2\n",
    "\n",
    "def update(change):\n",
    "    artist.image = array ** change['new']\n",
    "\n",
    "slider = widgets.FloatSlider(min=.1, max=10, step=.1)\n",
    "\n",
    "slider.observe(update, 'value')\n",
    "\n",
    "slider"
   ]
  },
  {
   "cell_type": "markdown",
   "metadata": {},
   "source": [
    "Everything can be composed using ipywidgets."
   ]
  },
  {
   "cell_type": "code",
   "execution_count": 16,
   "metadata": {},
   "outputs": [
    {
     "data": {
      "application/vnd.jupyter.widget-view+json": {
       "model_id": "c710d8be5f9242408231280b6c3c59c9",
       "version_major": 2,
       "version_minor": 0
      },
      "text/plain": [
       "HBox(children=(VBox(children=(Figure(axes=[Axis(scale=LinearScale(allow_padding=False)), Axis(orientation='ver…"
      ]
     },
     "metadata": {},
     "output_type": "display_data"
    }
   ],
   "source": [
    "canvas = Canvas()\n",
    "\n",
    "artist = ImageArtist()\n",
    "artist.image = np.random.rand(32,32)\n",
    "canvas.artists = {'my_image' : artist}\n",
    "\n",
    "canvas.tools = {'Pan':PanZoomTool(), 'Zoom':BoxZoomTool()}\n",
    "\n",
    "widgets.HBox([widgets.VBox([canvas.figure, artist.colorbar]), \n",
    "              widgets.VBox([artist.color_scheme_picker, canvas.toolbar, slider])])"
   ]
  },
  {
   "cell_type": "markdown",
   "metadata": {},
   "source": [
    "To create a 1d visualization we may want to modify the `Canvas`. The `lock_scale` trait ensures equal x and y-scale and thus square pixels, here we disable it."
   ]
  },
  {
   "cell_type": "code",
   "execution_count": 17,
   "metadata": {},
   "outputs": [
    {
     "data": {
      "application/vnd.jupyter.widget-view+json": {
       "model_id": "ee7c6936d7264a24a4a82e04ddb71928",
       "version_major": 2,
       "version_minor": 0
      },
      "text/plain": [
       "Figure(axes=[Axis(scale=LinearScale(allow_padding=False)), Axis(orientation='vertical', scale=LinearScale(allo…"
      ]
     },
     "metadata": {},
     "output_type": "display_data"
    }
   ],
   "source": [
    "canvas = Canvas(lock_scale=False, width=600, height=300)\n",
    "\n",
    "canvas.figure"
   ]
  },
  {
   "cell_type": "markdown",
   "metadata": {},
   "source": [
    "Multiple artists are added to the same `Canvas`."
   ]
  },
  {
   "cell_type": "code",
   "execution_count": 18,
   "metadata": {},
   "outputs": [],
   "source": [
    "linesartist1 = LinesArtist()\n",
    "linesartist1.x = np.linspace(0,10,100)\n",
    "linesartist1.y = np.random.rand(100)\n",
    "\n",
    "linesartist2 = LinesArtist(colors='blue')\n",
    "linesartist2.x = np.linspace(0,20,100)\n",
    "linesartist2.y = np.random.rand(100)\n",
    "\n",
    "canvas.artists = {'line1' : linesartist1, 'line2' : linesartist2}"
   ]
  },
  {
   "cell_type": "markdown",
   "metadata": {},
   "source": [
    "The visibility of an `Artist` can be modified using the widget below."
   ]
  },
  {
   "cell_type": "code",
   "execution_count": 19,
   "metadata": {},
   "outputs": [
    {
     "data": {
      "application/vnd.jupyter.widget-view+json": {
       "model_id": "4acdeb431c954807a5320aed5e40ba65",
       "version_major": 2,
       "version_minor": 0
      },
      "text/plain": [
       "VBox(children=(Checkbox(value=True, description='line1', indent=False, layout=Layout(width='90%')), Checkbox(v…"
      ]
     },
     "metadata": {},
     "output_type": "display_data"
    }
   ],
   "source": [
    "canvas.visibility_checkboxes"
   ]
  },
  {
   "cell_type": "markdown",
   "metadata": {},
   "source": [
    "## Example: HRTEM with CTF"
   ]
  },
  {
   "cell_type": "markdown",
   "metadata": {},
   "source": [
    "The next cells show how to put together a real interactive example. The result is similar to calling the `.apply` method of the `CTF` object with `interact=True`.\n",
    "\n",
    "First, standard abTEM code is run to obtain an exit wavefunction for the visualization."
   ]
  },
  {
   "cell_type": "code",
   "execution_count": 25,
   "metadata": {},
   "outputs": [],
   "source": [
    "atoms = mx2(formula='MoS2', kind='2H', a=3.18, thickness=3.19, size=(1, 1, 1), vacuum=None)\n",
    "atoms = orthogonalize_cell(atoms) * (3, 2, 1)\n",
    "atoms.center(vacuum=2, axis=2)\n",
    "\n",
    "exit_wave = PlaneWave(energy=300e3, sampling=.05).multislice(atoms,pbar=False)\n",
    "ctf = CTF(energy=300e3, rolloff=.05)"
   ]
  },
  {
   "cell_type": "markdown",
   "metadata": {},
   "source": [
    "Two Canvas objects are created for displaying the HRTEM and a radial 1d slice of the CTF. We create a `MeasurementArtist2d` and two `MeasurementArtist1d`, these artists will take an abTEM `Measurement` object and create a visualization."
   ]
  },
  {
   "cell_type": "code",
   "execution_count": 29,
   "metadata": {
    "scrolled": true
   },
   "outputs": [],
   "source": [
    "canvas1 = Canvas()\n",
    "image_artist = MeasurementArtist2d()\n",
    "canvas1.artists = {'image' : image_artist}\n",
    "\n",
    "canvas2 = Canvas(lock_scale=False)\n",
    "ctf_artist = MeasurementArtist1d()\n",
    "envelope_artist = MeasurementArtist1d()\n",
    "canvas2.artists = {'ctf' : ctf_artist, 'envelope':envelope_artist}\n",
    "canvas2.y_scale.min = -1 \n",
    "canvas2.y_scale.max = 1 "
   ]
  },
  {
   "cell_type": "code",
   "execution_count": 31,
   "metadata": {},
   "outputs": [],
   "source": [
    "# Create widgets\n",
    "defocus_slider = widgets.FloatSlider(description='defocus', min=-100, max=100, step=1)\n",
    "Cs_slider = widgets.FloatSlider(description='Cs', min=-1e5, max=1e5, step=1)\n",
    "aperture_slider = widgets.FloatSlider(description='aperture', min=5, max=100, value=20, step=1)\n",
    "\n",
    "# Create callback\n",
    "def update(*args):\n",
    "    # Fetch values from sliders\n",
    "    ctf.defocus = defocus_slider.value\n",
    "    ctf.Cs = Cs_slider.value\n",
    "    ctf.semiangle_cutoff = aperture_slider.value\n",
    "    \n",
    "    # abTEM calculations\n",
    "    image = ctf.apply(exit_wave).intensity()[0]\n",
    "    ctf_profiles = ctf.profiles(max_semiangle=100)\n",
    "    \n",
    "    # Set the objects to visualize\n",
    "    ctf_artist.measurement = ctf_profiles['ctf']\n",
    "    envelope_artist.measurement = ctf_profiles['envelope']\n",
    "    image_artist.measurement = image\n",
    "    \n",
    "# Attach callback\n",
    "defocus_slider.observe(update, 'value')\n",
    "Cs_slider.observe(update, 'value')\n",
    "aperture_slider.observe(update, 'value')\n",
    "\n",
    "# Run callback once to refresh, and adjust canvas to match the artists\n",
    "update()\n",
    "canvas1.adjust_limits_to_artists()\n",
    "canvas1.adjust_labels_to_artists()\n",
    "canvas2.adjust_limits_to_artists(adjust_y=False) # we manually fixed the y-limits above\n",
    "canvas2.adjust_labels_to_artists()"
   ]
  },
  {
   "cell_type": "code",
   "execution_count": 32,
   "metadata": {},
   "outputs": [
    {
     "data": {
      "application/vnd.jupyter.widget-view+json": {
       "model_id": "d4fff99cab5246998ac612cbe06c2d25",
       "version_major": 2,
       "version_minor": 0
      },
      "text/plain": [
       "VBox(children=(HBox(children=(Figure(axes=[Axis(label='x [Å]', scale=LinearScale(allow_padding=False, max=10.2…"
      ]
     },
     "metadata": {},
     "output_type": "display_data"
    }
   ],
   "source": [
    "widgets.VBox([widgets.HBox([canvas1.figure, canvas2.figure]), \n",
    "              widgets.VBox([defocus_slider, Cs_slider, aperture_slider])])"
   ]
  }
 ],
 "metadata": {
  "kernelspec": {
   "display_name": "abtem",
   "language": "python",
   "name": "abtem"
  },
  "language_info": {
   "codemirror_mode": {
    "name": "ipython",
    "version": 3
   },
   "file_extension": ".py",
   "mimetype": "text/x-python",
   "name": "python",
   "nbconvert_exporter": "python",
   "pygments_lexer": "ipython3",
   "version": "3.8.5"
  }
 },
 "nbformat": 4,
 "nbformat_minor": 4
}
